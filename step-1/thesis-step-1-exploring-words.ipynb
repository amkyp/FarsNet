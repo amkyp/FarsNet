{
 "cells": [
  {
   "cell_type": "code",
   "execution_count": null,
   "metadata": {},
   "outputs": [],
   "source": [
    "import json\n",
    "import csv\n",
    "\n",
    "with open(\"run2_log-also-stopwords-removed.json\", \"r\", encoding=\"utf-8\") as f:\n",
    "    log = json.load(f)\n",
    "with open(\"words_20240602131523.csv\", \"r\", encoding=\"utf-8\") as f:\n",
    "    # read with header as word\n",
    "    reader = csv.reader(f)\n",
    "    words = [row[0] for row in reader]\n",
    "    # skip header\n",
    "    words = words[1:]\n",
    "    print(\"number of words in wordlist from farsnet, with sense count of >= 7 to <=15\", len(words))\n",
    "result = {}\n",
    "for word in words:\n",
    "    if word in log:\n",
    "        result[word] = log[word]\n",
    "with open(\"words_in_log.json\", \"w\", encoding=\"utf-8\") as f:\n",
    "    json.dump(result, f, indent=4, ensure_ascii=False)\n",
    "print(json.dumps(result, indent=4, ensure_ascii=False))\n",
    "\n",
    "print(len(result))"
   ]
  },
  {
   "cell_type": "code",
   "execution_count": null,
   "metadata": {},
   "outputs": [],
   "source": [
    "# print len result\n",
    "print(\"len(result) = \", len(result))"
   ]
  },
  {
   "cell_type": "code",
   "execution_count": null,
   "metadata": {},
   "outputs": [],
   "source": [
    "import datetime\n",
    "timestamp = datetime.datetime.now().strftime(\"%m-%d-%Y-%H-%M-%S\")\n",
    "print(timestamp)"
   ]
  },
  {
   "cell_type": "code",
   "execution_count": null,
   "metadata": {},
   "outputs": [],
   "source": [
    "with open(f\"words_in_log_{timestamp}.csv\", \"w\", encoding=\"utf-8\") as f:\n",
    "    writer = csv.writer(f)\n",
    "    writer.writerow([\"word\"])\n",
    "    for word in result:\n",
    "        writer.writerow([word])"
   ]
  },
  {
   "cell_type": "code",
   "execution_count": null,
   "metadata": {},
   "outputs": [],
   "source": [
    "import json\n",
    "import csv\n",
    "\n",
    "with open(\"run2_log-also-stopwords-removed.json\", \"r\", encoding=\"utf-8\") as f:\n",
    "    log = json.load(f)\n",
    "with open(\"words_06-07-2024_21-57-03.csv\", \"r\", encoding=\"utf-8\") as f:\n",
    "    # read with header as word\n",
    "    reader = csv.reader(f)\n",
    "    words = [row[0] for row in reader]\n",
    "    # skip header\n",
    "    words = words[1:]\n",
    "    print(\"number of words in wordlist from farsnet, with sense count of >= 7 to <=15\", len(words))\n",
    "result = {}\n",
    "for word in words:\n",
    "    if word in log:\n",
    "        result[word] = log[word]\n",
    "\n",
    "import datetime\n",
    "timestamp = datetime.datetime.now().strftime(\"%m-%d-%Y-%H-%M-%S\")\n",
    "with open(f\"words_in_log_{timestamp}.json\", \"w\", encoding=\"utf-8\") as f:\n",
    "    json.dump(result, f, indent=4, ensure_ascii=False)\n",
    "print(json.dumps(result, indent=4, ensure_ascii=False))\n",
    "\n",
    "print(len(result))"
   ]
  },
  {
   "cell_type": "code",
   "execution_count": null,
   "metadata": {},
   "outputs": [],
   "source": [
    "# sort result dict by value\n",
    "result = dict(sorted(result.items(), key=lambda item: item[1], reverse=True))\n",
    "print(json.dumps(result, indent=4, ensure_ascii=False))"
   ]
  },
  {
   "cell_type": "code",
   "execution_count": null,
   "metadata": {},
   "outputs": [],
   "source": [
    "# bring me the 400 tail of the sorted result\n",
    "result = dict(list(result.items())[-400:])\n",
    "display(result)"
   ]
  },
  {
   "cell_type": "code",
   "execution_count": null,
   "metadata": {},
   "outputs": [],
   "source": [
    "# bring me the 400 tail of the sorted result\n",
    "result = dict(list(result.items())[-100:])\n",
    "display(result)"
   ]
  },
  {
   "cell_type": "code",
   "execution_count": null,
   "metadata": {},
   "outputs": [],
   "source": [
    "# sum of the values in the result\n",
    "sum(result.values())"
   ]
  },
  {
   "cell_type": "code",
   "execution_count": null,
   "metadata": {},
   "outputs": [],
   "source": [
    "# I want to read my data in a csv file as in below:\n",
    "# word,frequency\n",
    "# ??,314370\n",
    "# ???????,23243\n",
    "# ??,546261\n",
    "# ?????,245294\n",
    "# ??,159236\n",
    "# ?????,39511\n",
    "# ???,116699\n",
    "# ???,739651\n",
    "\n",
    "with open(\"word_frequencies06-d-2024_02-52-10.csv\", \"r\", encoding=\"utf-8\") as f:\n",
    "    reader = csv.reader(f)\n",
    "    next(reader)\n",
    "    data = {row[0]: int(row[1]) for row in reader}\n",
    "    \n",
    "print(json.dumps(data, indent=4, ensure_ascii=False))\n"
   ]
  },
  {
   "cell_type": "code",
   "execution_count": null,
   "metadata": {},
   "outputs": [],
   "source": [
    "import json\n",
    "import csv\n",
    "\n",
    "with open(\"run3_log.json\", \"r\", encoding=\"utf-8\") as f:\n",
    "    log = json.load(f)\n",
    "with open(\"words_06-07-2024_21-57-03.csv\", \"r\", encoding=\"utf-8\") as f:\n",
    "    # read with header as word\n",
    "    reader = csv.reader(f)\n",
    "    words = [row[0] for row in reader]\n",
    "    # skip header\n",
    "    words = words[1:]\n",
    "    print(\"number of words in wordlist from farsnet, with sense count of >= 7 to <=15\", len(words))\n",
    "result = {}\n",
    "for word in words:\n",
    "    if word in log:\n",
    "        result[word] = log[word]\n",
    "\n",
    "import datetime\n",
    "timestamp = datetime.datetime.now().strftime(\"%m-%d-%Y-%H-%M-%S\")\n",
    "with open(f\"words_in_log_{timestamp}.json\", \"w\", encoding=\"utf-8\") as f:\n",
    "    json.dump(result, f, indent=4, ensure_ascii=False)\n",
    "print(json.dumps(result, indent=4, ensure_ascii=False))\n",
    "\n",
    "print(len(result))"
   ]
  },
  {
   "cell_type": "code",
   "execution_count": null,
   "metadata": {},
   "outputs": [],
   "source": [
    "# sort result dict by value\n",
    "result = dict(sorted(result.items(), key=lambda item: item[1], reverse=True))\n",
    "print(json.dumps(result, indent=4, ensure_ascii=False))\n",
    "# bring me the 400 tail of the sorted result"
   ]
  },
  {
   "cell_type": "code",
   "execution_count": null,
   "metadata": {},
   "outputs": [],
   "source": [
    "result = dict(list(result.items())[-100:])\n",
    "display(result)\n",
    "\n",
    "sum(result.values())\n",
    "sum(dict(list(result.items())[-100:]).values())"
   ]
  },
  {
   "cell_type": "code",
   "execution_count": null,
   "metadata": {},
   "outputs": [],
   "source": [
    "# apply int to the values of the result\n",
    "# result = {k: int(v) for k, v in result.items()}"
   ]
  },
  {
   "cell_type": "code",
   "execution_count": null,
   "metadata": {},
   "outputs": [],
   "source": [
    "# give me keys of the result that sum up to 100000\n",
    "# start from least frequent words and don't count words with less than 10 frequency\n",
    "keys = []\n",
    "total = 0\n",
    "result = dict(sorted(result.items(), key=lambda item: item[1], reverse=True))\n",
    "for key in result:\n",
    "    if int(result[key]) >= 10 and total < 100000:\n",
    "        keys.append(key)\n",
    "        total += result[key]\n",
    "        if total >= 100000:\n",
    "            break\n",
    "print(keys)\n",
    "print(total)"
   ]
  },
  {
   "cell_type": "code",
   "execution_count": null,
   "metadata": {},
   "outputs": [],
   "source": [
    "# Ok got the keys as a list, now I want to write them as json with their value\n",
    "# keys are words\n",
    "print(json.dumps({key: result[key] for key in keys}, indent=4, ensure_ascii=False))\n",
    "# save as json\n",
    "with open(f\"words_in_log_{timestamp}.json\", \"w\", encoding=\"utf-8\") as f:\n",
    "    json.dump({key: result[key] for key in keys}, f, indent=4, ensure_ascii=False)"
   ]
  },
  {
   "cell_type": "code",
   "execution_count": null,
   "metadata": {},
   "outputs": [],
   "source": [
    "# save as csv\n",
    "with open(f\"words_in_log_{timestamp}.csv\", \"w\", encoding=\"utf-8\") as f:\n",
    "    writer = csv.writer(f)\n",
    "    writer.writerow([\"word\"])\n",
    "    for key in keys:\n",
    "        writer.writerow([key.strip()])"
   ]
  },
  {
   "cell_type": "code",
   "execution_count": null,
   "metadata": {},
   "outputs": [],
   "source": []
  },
  {
   "cell_type": "code",
   "execution_count": null,
   "metadata": {},
   "outputs": [],
   "source": []
  },
  {
   "cell_type": "code",
   "execution_count": null,
   "metadata": {},
   "outputs": [],
   "source": [
    "# read ambiguous_sentences-complete-06-d-2024_04-39-45.csv\n",
    "\n",
    "with open(\"ambiguous_sentences-complete-06-d-2024_04-39-45.csv\", \"r\", encoding=\"utf-8\") as f:\n",
    "    reader = csv.reader(f)\n",
    "    data = [row for row in reader]\n",
    "print(data)"
   ]
  }
 ],
 "metadata": {
  "kernelspec": {
   "display_name": "Python 3",
   "language": "python",
   "name": "python3"
  },
  "language_info": {
   "codemirror_mode": {
    "name": "ipython",
    "version": 3
   },
   "file_extension": ".py",
   "mimetype": "text/x-python",
   "name": "python",
   "nbconvert_exporter": "python",
   "pygments_lexer": "ipython3",
   "version": "3.10.13"
  }
 },
 "nbformat": 4,
 "nbformat_minor": 2
}
